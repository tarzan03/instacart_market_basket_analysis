{
  "nbformat": 4,
  "nbformat_minor": 0,
  "metadata": {
    "colab": {
      "name": "instacart_market_basket_analysis.ipynb",
      "version": "0.3.2",
      "provenance": [],
      "collapsed_sections": [],
      "machine_shape": "hm",
      "include_colab_link": true
    },
    "kernelspec": {
      "name": "python3",
      "display_name": "Python 3"
    },
    "accelerator": "TPU"
  },
  "cells": [
    {
      "cell_type": "markdown",
      "metadata": {
        "id": "view-in-github",
        "colab_type": "text"
      },
      "source": [
        "<a href=\"https://colab.research.google.com/github/tarzan03/instacart_market_basket_analysis/blob/master/instacart_market_basket_analysis.ipynb\" target=\"_parent\"><img src=\"https://colab.research.google.com/assets/colab-badge.svg\" alt=\"Open In Colab\"/></a>"
      ]
    },
    {
      "cell_type": "code",
      "metadata": {
        "id": "qXqOdfLjhmCu",
        "colab_type": "code",
        "outputId": "340ea7f6-9019-4280-8e8a-e3adcca105be",
        "colab": {
          "base_uri": "https://localhost:8080/",
          "height": 129
        }
      },
      "source": [
        "import zipfile\n",
        "from google.colab import drive\n",
        "\n",
        "drive.mount('/content/drive/')\n",
        "\n",
        "zip_ref = zipfile.ZipFile(\"/content/drive/My Drive/instacart-market-basket-analysis(1).zip\", 'r')\n",
        "zip_ref.extractall(\"/tmp\")\n",
        "zip_ref.close()"
      ],
      "execution_count": 1,
      "outputs": [
        {
          "output_type": "stream",
          "text": [
            "Go to this URL in a browser: https://accounts.google.com/o/oauth2/auth?client_id=947318989803-6bn6qk8qdgf4n4g3pfee6491hc0brc4i.apps.googleusercontent.com&redirect_uri=urn%3Aietf%3Awg%3Aoauth%3A2.0%3Aoob&scope=email%20https%3A%2F%2Fwww.googleapis.com%2Fauth%2Fdocs.test%20https%3A%2F%2Fwww.googleapis.com%2Fauth%2Fdrive%20https%3A%2F%2Fwww.googleapis.com%2Fauth%2Fdrive.photos.readonly%20https%3A%2F%2Fwww.googleapis.com%2Fauth%2Fpeopleapi.readonly&response_type=code\n",
            "\n",
            "Enter your authorization code:\n",
            "··········\n",
            "Mounted at /content/drive/\n"
          ],
          "name": "stdout"
        }
      ]
    },
    {
      "cell_type": "code",
      "metadata": {
        "id": "x0g0vXO_hoqW",
        "colab_type": "code",
        "colab": {}
      },
      "source": [
        "from __future__ import absolute_import, division, print_function\n",
        "\n",
        "import numpy as np\n",
        "import pandas as pd\n",
        "import tensorflow as tf\n",
        "\n",
        "tf.enable_eager_execution()\n",
        "tf.logging.set_verbosity(tf.logging.ERROR)\n",
        "tf.set_random_seed(123)"
      ],
      "execution_count": 0,
      "outputs": []
    },
    {
      "cell_type": "markdown",
      "metadata": {
        "id": "YNp3gWgWnxJm",
        "colab_type": "text"
      },
      "source": [
        "# Loading the dataset."
      ]
    },
    {
      "cell_type": "code",
      "metadata": {
        "id": "YO6gCMOnnuNu",
        "colab_type": "code",
        "colab": {}
      },
      "source": [
        "prior = pd.read_csv('/tmp/order_products__prior.csv',dtype = {'order_id': np.uint32,\n",
        "           'product_id': np.uint16, 'reordered': np.uint8, 'add_to_cart_order': np.uint8}) \n",
        "\n",
        "\n",
        "train_orders = pd.read_csv('/tmp/order_products__train.csv', dtype={'order_id': np.uint32,\n",
        "           'product_id': np.uint16, 'reordered': np.int8, 'add_to_cart_order': np.uint8 })\n",
        "\n",
        "\n",
        "orders = pd.read_csv('/tmp/orders.csv', dtype={'order_hour_of_day': np.uint8,\n",
        "           'order_number': np.uint8, 'order_id': np.uint32, 'user_id': np.uint32,\n",
        "           'order_dow': np.uint8, 'days_since_prior_order': np.float16})\n",
        "\n",
        "\n",
        "orders.eval_set = orders.eval_set.replace({'prior': 0, 'train': 1, 'test':2}).astype(np.uint8)\n",
        "\n",
        "orders.days_since_prior_order = orders.days_since_prior_order.fillna(30).astype(np.uint8)\n",
        "\n",
        "\n",
        "products = pd.read_csv('/tmp/products.csv', dtype={'product_id': np.uint16,\n",
        "            'aisle_id': np.uint8, 'department_id': np.uint8},\n",
        "             usecols=['product_id', 'aisle_id', 'department_id'])"
      ],
      "execution_count": 0,
      "outputs": []
    },
    {
      "cell_type": "code",
      "metadata": {
        "id": "vGaws5BlokUF",
        "colab_type": "code",
        "outputId": "024cb220-d896-4091-8e50-785b7dd5861c",
        "colab": {
          "base_uri": "https://localhost:8080/",
          "height": 206
        }
      },
      "source": [
        "\n",
        "prior.head()"
      ],
      "execution_count": 4,
      "outputs": [
        {
          "output_type": "execute_result",
          "data": {
            "text/html": [
              "<div>\n",
              "<style scoped>\n",
              "    .dataframe tbody tr th:only-of-type {\n",
              "        vertical-align: middle;\n",
              "    }\n",
              "\n",
              "    .dataframe tbody tr th {\n",
              "        vertical-align: top;\n",
              "    }\n",
              "\n",
              "    .dataframe thead th {\n",
              "        text-align: right;\n",
              "    }\n",
              "</style>\n",
              "<table border=\"1\" class=\"dataframe\">\n",
              "  <thead>\n",
              "    <tr style=\"text-align: right;\">\n",
              "      <th></th>\n",
              "      <th>order_id</th>\n",
              "      <th>product_id</th>\n",
              "      <th>add_to_cart_order</th>\n",
              "      <th>reordered</th>\n",
              "    </tr>\n",
              "  </thead>\n",
              "  <tbody>\n",
              "    <tr>\n",
              "      <th>0</th>\n",
              "      <td>2</td>\n",
              "      <td>33120</td>\n",
              "      <td>1</td>\n",
              "      <td>1</td>\n",
              "    </tr>\n",
              "    <tr>\n",
              "      <th>1</th>\n",
              "      <td>2</td>\n",
              "      <td>28985</td>\n",
              "      <td>2</td>\n",
              "      <td>1</td>\n",
              "    </tr>\n",
              "    <tr>\n",
              "      <th>2</th>\n",
              "      <td>2</td>\n",
              "      <td>9327</td>\n",
              "      <td>3</td>\n",
              "      <td>0</td>\n",
              "    </tr>\n",
              "    <tr>\n",
              "      <th>3</th>\n",
              "      <td>2</td>\n",
              "      <td>45918</td>\n",
              "      <td>4</td>\n",
              "      <td>1</td>\n",
              "    </tr>\n",
              "    <tr>\n",
              "      <th>4</th>\n",
              "      <td>2</td>\n",
              "      <td>30035</td>\n",
              "      <td>5</td>\n",
              "      <td>0</td>\n",
              "    </tr>\n",
              "  </tbody>\n",
              "</table>\n",
              "</div>"
            ],
            "text/plain": [
              "   order_id  product_id  add_to_cart_order  reordered\n",
              "0         2       33120                  1          1\n",
              "1         2       28985                  2          1\n",
              "2         2        9327                  3          0\n",
              "3         2       45918                  4          1\n",
              "4         2       30035                  5          0"
            ]
          },
          "metadata": {
            "tags": []
          },
          "execution_count": 4
        }
      ]
    },
    {
      "cell_type": "code",
      "metadata": {
        "id": "n93k7qmIpRBa",
        "colab_type": "code",
        "outputId": "908dcca8-7516-48e8-bd01-cc31d8caee06",
        "colab": {
          "base_uri": "https://localhost:8080/",
          "height": 206
        }
      },
      "source": [
        "train_orders.head()"
      ],
      "execution_count": 5,
      "outputs": [
        {
          "output_type": "execute_result",
          "data": {
            "text/html": [
              "<div>\n",
              "<style scoped>\n",
              "    .dataframe tbody tr th:only-of-type {\n",
              "        vertical-align: middle;\n",
              "    }\n",
              "\n",
              "    .dataframe tbody tr th {\n",
              "        vertical-align: top;\n",
              "    }\n",
              "\n",
              "    .dataframe thead th {\n",
              "        text-align: right;\n",
              "    }\n",
              "</style>\n",
              "<table border=\"1\" class=\"dataframe\">\n",
              "  <thead>\n",
              "    <tr style=\"text-align: right;\">\n",
              "      <th></th>\n",
              "      <th>order_id</th>\n",
              "      <th>product_id</th>\n",
              "      <th>add_to_cart_order</th>\n",
              "      <th>reordered</th>\n",
              "    </tr>\n",
              "  </thead>\n",
              "  <tbody>\n",
              "    <tr>\n",
              "      <th>0</th>\n",
              "      <td>1</td>\n",
              "      <td>49302</td>\n",
              "      <td>1</td>\n",
              "      <td>1</td>\n",
              "    </tr>\n",
              "    <tr>\n",
              "      <th>1</th>\n",
              "      <td>1</td>\n",
              "      <td>11109</td>\n",
              "      <td>2</td>\n",
              "      <td>1</td>\n",
              "    </tr>\n",
              "    <tr>\n",
              "      <th>2</th>\n",
              "      <td>1</td>\n",
              "      <td>10246</td>\n",
              "      <td>3</td>\n",
              "      <td>0</td>\n",
              "    </tr>\n",
              "    <tr>\n",
              "      <th>3</th>\n",
              "      <td>1</td>\n",
              "      <td>49683</td>\n",
              "      <td>4</td>\n",
              "      <td>0</td>\n",
              "    </tr>\n",
              "    <tr>\n",
              "      <th>4</th>\n",
              "      <td>1</td>\n",
              "      <td>43633</td>\n",
              "      <td>5</td>\n",
              "      <td>1</td>\n",
              "    </tr>\n",
              "  </tbody>\n",
              "</table>\n",
              "</div>"
            ],
            "text/plain": [
              "   order_id  product_id  add_to_cart_order  reordered\n",
              "0         1       49302                  1          1\n",
              "1         1       11109                  2          1\n",
              "2         1       10246                  3          0\n",
              "3         1       49683                  4          0\n",
              "4         1       43633                  5          1"
            ]
          },
          "metadata": {
            "tags": []
          },
          "execution_count": 5
        }
      ]
    },
    {
      "cell_type": "code",
      "metadata": {
        "id": "ijuISsazpjle",
        "colab_type": "code",
        "outputId": "148975e8-8777-44b3-ce81-f8d7f7f95f44",
        "colab": {
          "base_uri": "https://localhost:8080/",
          "height": 206
        }
      },
      "source": [
        "orders.head()"
      ],
      "execution_count": 6,
      "outputs": [
        {
          "output_type": "execute_result",
          "data": {
            "text/html": [
              "<div>\n",
              "<style scoped>\n",
              "    .dataframe tbody tr th:only-of-type {\n",
              "        vertical-align: middle;\n",
              "    }\n",
              "\n",
              "    .dataframe tbody tr th {\n",
              "        vertical-align: top;\n",
              "    }\n",
              "\n",
              "    .dataframe thead th {\n",
              "        text-align: right;\n",
              "    }\n",
              "</style>\n",
              "<table border=\"1\" class=\"dataframe\">\n",
              "  <thead>\n",
              "    <tr style=\"text-align: right;\">\n",
              "      <th></th>\n",
              "      <th>order_id</th>\n",
              "      <th>user_id</th>\n",
              "      <th>eval_set</th>\n",
              "      <th>order_number</th>\n",
              "      <th>order_dow</th>\n",
              "      <th>order_hour_of_day</th>\n",
              "      <th>days_since_prior_order</th>\n",
              "    </tr>\n",
              "  </thead>\n",
              "  <tbody>\n",
              "    <tr>\n",
              "      <th>0</th>\n",
              "      <td>2539329</td>\n",
              "      <td>1</td>\n",
              "      <td>0</td>\n",
              "      <td>1</td>\n",
              "      <td>2</td>\n",
              "      <td>8</td>\n",
              "      <td>30</td>\n",
              "    </tr>\n",
              "    <tr>\n",
              "      <th>1</th>\n",
              "      <td>2398795</td>\n",
              "      <td>1</td>\n",
              "      <td>0</td>\n",
              "      <td>2</td>\n",
              "      <td>3</td>\n",
              "      <td>7</td>\n",
              "      <td>15</td>\n",
              "    </tr>\n",
              "    <tr>\n",
              "      <th>2</th>\n",
              "      <td>473747</td>\n",
              "      <td>1</td>\n",
              "      <td>0</td>\n",
              "      <td>3</td>\n",
              "      <td>3</td>\n",
              "      <td>12</td>\n",
              "      <td>21</td>\n",
              "    </tr>\n",
              "    <tr>\n",
              "      <th>3</th>\n",
              "      <td>2254736</td>\n",
              "      <td>1</td>\n",
              "      <td>0</td>\n",
              "      <td>4</td>\n",
              "      <td>4</td>\n",
              "      <td>7</td>\n",
              "      <td>29</td>\n",
              "    </tr>\n",
              "    <tr>\n",
              "      <th>4</th>\n",
              "      <td>431534</td>\n",
              "      <td>1</td>\n",
              "      <td>0</td>\n",
              "      <td>5</td>\n",
              "      <td>4</td>\n",
              "      <td>15</td>\n",
              "      <td>28</td>\n",
              "    </tr>\n",
              "  </tbody>\n",
              "</table>\n",
              "</div>"
            ],
            "text/plain": [
              "   order_id  user_id  ...  order_hour_of_day  days_since_prior_order\n",
              "0   2539329        1  ...                  8                      30\n",
              "1   2398795        1  ...                  7                      15\n",
              "2    473747        1  ...                 12                      21\n",
              "3   2254736        1  ...                  7                      29\n",
              "4    431534        1  ...                 15                      28\n",
              "\n",
              "[5 rows x 7 columns]"
            ]
          },
          "metadata": {
            "tags": []
          },
          "execution_count": 6
        }
      ]
    },
    {
      "cell_type": "code",
      "metadata": {
        "id": "78CfBTvDproi",
        "colab_type": "code",
        "outputId": "b8c90247-f66e-41e6-9395-520844ab386c",
        "colab": {
          "base_uri": "https://localhost:8080/",
          "height": 206
        }
      },
      "source": [
        "products.head()"
      ],
      "execution_count": 7,
      "outputs": [
        {
          "output_type": "execute_result",
          "data": {
            "text/html": [
              "<div>\n",
              "<style scoped>\n",
              "    .dataframe tbody tr th:only-of-type {\n",
              "        vertical-align: middle;\n",
              "    }\n",
              "\n",
              "    .dataframe tbody tr th {\n",
              "        vertical-align: top;\n",
              "    }\n",
              "\n",
              "    .dataframe thead th {\n",
              "        text-align: right;\n",
              "    }\n",
              "</style>\n",
              "<table border=\"1\" class=\"dataframe\">\n",
              "  <thead>\n",
              "    <tr style=\"text-align: right;\">\n",
              "      <th></th>\n",
              "      <th>product_id</th>\n",
              "      <th>aisle_id</th>\n",
              "      <th>department_id</th>\n",
              "    </tr>\n",
              "  </thead>\n",
              "  <tbody>\n",
              "    <tr>\n",
              "      <th>0</th>\n",
              "      <td>1</td>\n",
              "      <td>61</td>\n",
              "      <td>19</td>\n",
              "    </tr>\n",
              "    <tr>\n",
              "      <th>1</th>\n",
              "      <td>2</td>\n",
              "      <td>104</td>\n",
              "      <td>13</td>\n",
              "    </tr>\n",
              "    <tr>\n",
              "      <th>2</th>\n",
              "      <td>3</td>\n",
              "      <td>94</td>\n",
              "      <td>7</td>\n",
              "    </tr>\n",
              "    <tr>\n",
              "      <th>3</th>\n",
              "      <td>4</td>\n",
              "      <td>38</td>\n",
              "      <td>1</td>\n",
              "    </tr>\n",
              "    <tr>\n",
              "      <th>4</th>\n",
              "      <td>5</td>\n",
              "      <td>5</td>\n",
              "      <td>13</td>\n",
              "    </tr>\n",
              "  </tbody>\n",
              "</table>\n",
              "</div>"
            ],
            "text/plain": [
              "   product_id  aisle_id  department_id\n",
              "0           1        61             19\n",
              "1           2       104             13\n",
              "2           3        94              7\n",
              "3           4        38              1\n",
              "4           5         5             13"
            ]
          },
          "metadata": {
            "tags": []
          },
          "execution_count": 7
        }
      ]
    },
    {
      "cell_type": "markdown",
      "metadata": {
        "id": "yF8Z8Bhjp_97",
        "colab_type": "text"
      },
      "source": [
        "# Merging prior and orders to keep the train seperate.\n",
        "\n"
      ]
    },
    {
      "cell_type": "code",
      "metadata": {
        "id": "ddvLOkLcp3Cz",
        "colab_type": "code",
        "colab": {}
      },
      "source": [
        "import gc"
      ],
      "execution_count": 0,
      "outputs": []
    },
    {
      "cell_type": "code",
      "metadata": {
        "id": "1oueUALVqZHr",
        "colab_type": "code",
        "outputId": "be5850d4-8b1c-404d-fd3b-df8e5e83799d",
        "colab": {
          "base_uri": "https://localhost:8080/",
          "height": 35
        }
      },
      "source": [
        "orders_products = orders.merge(prior, how = 'inner', on = 'order_id')\n",
        "train_orders = train_orders.merge(orders[['user_id','order_id']], left_on = 'order_id', right_on = 'order_id', how = 'inner')\n",
        "\n",
        "del prior\n",
        "gc.collect()"
      ],
      "execution_count": 9,
      "outputs": [
        {
          "output_type": "execute_result",
          "data": {
            "text/plain": [
              "94"
            ]
          },
          "metadata": {
            "tags": []
          },
          "execution_count": 9
        }
      ]
    },
    {
      "cell_type": "code",
      "metadata": {
        "id": "KgZ2IQRbqjIc",
        "colab_type": "code",
        "outputId": "e4063d7d-000f-4f22-92aa-731920aedc17",
        "colab": {
          "base_uri": "https://localhost:8080/",
          "height": 206
        }
      },
      "source": [
        "train_orders.head()"
      ],
      "execution_count": 10,
      "outputs": [
        {
          "output_type": "execute_result",
          "data": {
            "text/html": [
              "<div>\n",
              "<style scoped>\n",
              "    .dataframe tbody tr th:only-of-type {\n",
              "        vertical-align: middle;\n",
              "    }\n",
              "\n",
              "    .dataframe tbody tr th {\n",
              "        vertical-align: top;\n",
              "    }\n",
              "\n",
              "    .dataframe thead th {\n",
              "        text-align: right;\n",
              "    }\n",
              "</style>\n",
              "<table border=\"1\" class=\"dataframe\">\n",
              "  <thead>\n",
              "    <tr style=\"text-align: right;\">\n",
              "      <th></th>\n",
              "      <th>order_id</th>\n",
              "      <th>product_id</th>\n",
              "      <th>add_to_cart_order</th>\n",
              "      <th>reordered</th>\n",
              "      <th>user_id</th>\n",
              "    </tr>\n",
              "  </thead>\n",
              "  <tbody>\n",
              "    <tr>\n",
              "      <th>0</th>\n",
              "      <td>1</td>\n",
              "      <td>49302</td>\n",
              "      <td>1</td>\n",
              "      <td>1</td>\n",
              "      <td>112108</td>\n",
              "    </tr>\n",
              "    <tr>\n",
              "      <th>1</th>\n",
              "      <td>1</td>\n",
              "      <td>11109</td>\n",
              "      <td>2</td>\n",
              "      <td>1</td>\n",
              "      <td>112108</td>\n",
              "    </tr>\n",
              "    <tr>\n",
              "      <th>2</th>\n",
              "      <td>1</td>\n",
              "      <td>10246</td>\n",
              "      <td>3</td>\n",
              "      <td>0</td>\n",
              "      <td>112108</td>\n",
              "    </tr>\n",
              "    <tr>\n",
              "      <th>3</th>\n",
              "      <td>1</td>\n",
              "      <td>49683</td>\n",
              "      <td>4</td>\n",
              "      <td>0</td>\n",
              "      <td>112108</td>\n",
              "    </tr>\n",
              "    <tr>\n",
              "      <th>4</th>\n",
              "      <td>1</td>\n",
              "      <td>43633</td>\n",
              "      <td>5</td>\n",
              "      <td>1</td>\n",
              "      <td>112108</td>\n",
              "    </tr>\n",
              "  </tbody>\n",
              "</table>\n",
              "</div>"
            ],
            "text/plain": [
              "   order_id  product_id  add_to_cart_order  reordered  user_id\n",
              "0         1       49302                  1          1   112108\n",
              "1         1       11109                  2          1   112108\n",
              "2         1       10246                  3          0   112108\n",
              "3         1       49683                  4          0   112108\n",
              "4         1       43633                  5          1   112108"
            ]
          },
          "metadata": {
            "tags": []
          },
          "execution_count": 10
        }
      ]
    },
    {
      "cell_type": "code",
      "metadata": {
        "id": "p6PLKl6Dq1gv",
        "colab_type": "code",
        "outputId": "60a89a2e-9511-4268-eb2f-0dd827beb0d6",
        "colab": {
          "base_uri": "https://localhost:8080/",
          "height": 206
        }
      },
      "source": [
        "orders_products.head()"
      ],
      "execution_count": 11,
      "outputs": [
        {
          "output_type": "execute_result",
          "data": {
            "text/html": [
              "<div>\n",
              "<style scoped>\n",
              "    .dataframe tbody tr th:only-of-type {\n",
              "        vertical-align: middle;\n",
              "    }\n",
              "\n",
              "    .dataframe tbody tr th {\n",
              "        vertical-align: top;\n",
              "    }\n",
              "\n",
              "    .dataframe thead th {\n",
              "        text-align: right;\n",
              "    }\n",
              "</style>\n",
              "<table border=\"1\" class=\"dataframe\">\n",
              "  <thead>\n",
              "    <tr style=\"text-align: right;\">\n",
              "      <th></th>\n",
              "      <th>order_id</th>\n",
              "      <th>user_id</th>\n",
              "      <th>eval_set</th>\n",
              "      <th>order_number</th>\n",
              "      <th>order_dow</th>\n",
              "      <th>order_hour_of_day</th>\n",
              "      <th>days_since_prior_order</th>\n",
              "      <th>product_id</th>\n",
              "      <th>add_to_cart_order</th>\n",
              "      <th>reordered</th>\n",
              "    </tr>\n",
              "  </thead>\n",
              "  <tbody>\n",
              "    <tr>\n",
              "      <th>0</th>\n",
              "      <td>2539329</td>\n",
              "      <td>1</td>\n",
              "      <td>0</td>\n",
              "      <td>1</td>\n",
              "      <td>2</td>\n",
              "      <td>8</td>\n",
              "      <td>30</td>\n",
              "      <td>196</td>\n",
              "      <td>1</td>\n",
              "      <td>0</td>\n",
              "    </tr>\n",
              "    <tr>\n",
              "      <th>1</th>\n",
              "      <td>2539329</td>\n",
              "      <td>1</td>\n",
              "      <td>0</td>\n",
              "      <td>1</td>\n",
              "      <td>2</td>\n",
              "      <td>8</td>\n",
              "      <td>30</td>\n",
              "      <td>14084</td>\n",
              "      <td>2</td>\n",
              "      <td>0</td>\n",
              "    </tr>\n",
              "    <tr>\n",
              "      <th>2</th>\n",
              "      <td>2539329</td>\n",
              "      <td>1</td>\n",
              "      <td>0</td>\n",
              "      <td>1</td>\n",
              "      <td>2</td>\n",
              "      <td>8</td>\n",
              "      <td>30</td>\n",
              "      <td>12427</td>\n",
              "      <td>3</td>\n",
              "      <td>0</td>\n",
              "    </tr>\n",
              "    <tr>\n",
              "      <th>3</th>\n",
              "      <td>2539329</td>\n",
              "      <td>1</td>\n",
              "      <td>0</td>\n",
              "      <td>1</td>\n",
              "      <td>2</td>\n",
              "      <td>8</td>\n",
              "      <td>30</td>\n",
              "      <td>26088</td>\n",
              "      <td>4</td>\n",
              "      <td>0</td>\n",
              "    </tr>\n",
              "    <tr>\n",
              "      <th>4</th>\n",
              "      <td>2539329</td>\n",
              "      <td>1</td>\n",
              "      <td>0</td>\n",
              "      <td>1</td>\n",
              "      <td>2</td>\n",
              "      <td>8</td>\n",
              "      <td>30</td>\n",
              "      <td>26405</td>\n",
              "      <td>5</td>\n",
              "      <td>0</td>\n",
              "    </tr>\n",
              "  </tbody>\n",
              "</table>\n",
              "</div>"
            ],
            "text/plain": [
              "   order_id  user_id  eval_set  ...  product_id  add_to_cart_order  reordered\n",
              "0   2539329        1         0  ...         196                  1          0\n",
              "1   2539329        1         0  ...       14084                  2          0\n",
              "2   2539329        1         0  ...       12427                  3          0\n",
              "3   2539329        1         0  ...       26088                  4          0\n",
              "4   2539329        1         0  ...       26405                  5          0\n",
              "\n",
              "[5 rows x 10 columns]"
            ]
          },
          "metadata": {
            "tags": []
          },
          "execution_count": 11
        }
      ]
    },
    {
      "cell_type": "code",
      "metadata": {
        "id": "nOxXLK0aq709",
        "colab_type": "code",
        "outputId": "fb4b24ce-fa8f-4fa6-d330-09b98ea26bc0",
        "colab": {
          "base_uri": "https://localhost:8080/",
          "height": 35
        }
      },
      "source": [
        "#Creating the features.\n",
        "prdss = orders_products.sort_values(['user_id', 'order_number', 'product_id'], ascending = True)\n",
        "prdss['product_time'] = prdss.groupby(['user_id', 'product_id']).cumcount()+1\n",
        "\n",
        "# getting products ordered first and second times to calculate probability later\n",
        "\n",
        "sub1 = prdss[prdss['product_time'] == 1].groupby('product_id').size().to_frame('prod_first_orders')\n",
        "\n",
        "sub2 = prdss[prdss['product_time'] == 2].groupby('product_id').size().to_frame('prod_second_orders')\n",
        "\n",
        "sub1['prod_orders'] = prdss.groupby('product_id')['product_id'].size()\n",
        "\n",
        "sub1['prod_reorders'] = prdss.groupby('product_id')['reordered'].sum()\n",
        "\n",
        "sub2 = sub2.reset_index().merge(sub1.reset_index())\n",
        "\n",
        "sub2['prod_reorder_probability'] = sub2['prod_second_orders']/sub2['prod_first_orders']\n",
        "\n",
        "sub2['prod_reorder_ratio'] = sub2['prod_reorders']/sub2['prod_orders']\n",
        "\n",
        "prd = sub2[['product_id', 'prod_orders','prod_reorder_probability', 'prod_reorder_ratio']]\n",
        "\n",
        "del sub1, sub2, prdss\n",
        "gc.collect()"
      ],
      "execution_count": 12,
      "outputs": [
        {
          "output_type": "execute_result",
          "data": {
            "text/plain": [
              "156"
            ]
          },
          "metadata": {
            "tags": []
          },
          "execution_count": 12
        }
      ]
    },
    {
      "cell_type": "code",
      "metadata": {
        "id": "4vFaCf6ctKDq",
        "colab_type": "code",
        "outputId": "0d6f6975-19fd-41f8-a0d6-906b92427676",
        "colab": {
          "base_uri": "https://localhost:8080/",
          "height": 206
        }
      },
      "source": [
        "prd.head()"
      ],
      "execution_count": 13,
      "outputs": [
        {
          "output_type": "execute_result",
          "data": {
            "text/html": [
              "<div>\n",
              "<style scoped>\n",
              "    .dataframe tbody tr th:only-of-type {\n",
              "        vertical-align: middle;\n",
              "    }\n",
              "\n",
              "    .dataframe tbody tr th {\n",
              "        vertical-align: top;\n",
              "    }\n",
              "\n",
              "    .dataframe thead th {\n",
              "        text-align: right;\n",
              "    }\n",
              "</style>\n",
              "<table border=\"1\" class=\"dataframe\">\n",
              "  <thead>\n",
              "    <tr style=\"text-align: right;\">\n",
              "      <th></th>\n",
              "      <th>product_id</th>\n",
              "      <th>prod_orders</th>\n",
              "      <th>prod_reorder_probability</th>\n",
              "      <th>prod_reorder_ratio</th>\n",
              "    </tr>\n",
              "  </thead>\n",
              "  <tbody>\n",
              "    <tr>\n",
              "      <th>0</th>\n",
              "      <td>1</td>\n",
              "      <td>1852</td>\n",
              "      <td>0.385475</td>\n",
              "      <td>0.613391</td>\n",
              "    </tr>\n",
              "    <tr>\n",
              "      <th>1</th>\n",
              "      <td>2</td>\n",
              "      <td>90</td>\n",
              "      <td>0.102564</td>\n",
              "      <td>0.133333</td>\n",
              "    </tr>\n",
              "    <tr>\n",
              "      <th>2</th>\n",
              "      <td>3</td>\n",
              "      <td>277</td>\n",
              "      <td>0.486486</td>\n",
              "      <td>0.732852</td>\n",
              "    </tr>\n",
              "    <tr>\n",
              "      <th>3</th>\n",
              "      <td>4</td>\n",
              "      <td>329</td>\n",
              "      <td>0.351648</td>\n",
              "      <td>0.446809</td>\n",
              "    </tr>\n",
              "    <tr>\n",
              "      <th>4</th>\n",
              "      <td>5</td>\n",
              "      <td>15</td>\n",
              "      <td>0.666667</td>\n",
              "      <td>0.600000</td>\n",
              "    </tr>\n",
              "  </tbody>\n",
              "</table>\n",
              "</div>"
            ],
            "text/plain": [
              "   product_id  prod_orders  prod_reorder_probability  prod_reorder_ratio\n",
              "0           1         1852                  0.385475            0.613391\n",
              "1           2           90                  0.102564            0.133333\n",
              "2           3          277                  0.486486            0.732852\n",
              "3           4          329                  0.351648            0.446809\n",
              "4           5           15                  0.666667            0.600000"
            ]
          },
          "metadata": {
            "tags": []
          },
          "execution_count": 13
        }
      ]
    },
    {
      "cell_type": "code",
      "metadata": {
        "id": "IdQ2V0Cvt4v2",
        "colab_type": "code",
        "outputId": "b1aa3255-1656-4895-e439-5079ef5155a5",
        "colab": {
          "base_uri": "https://localhost:8080/",
          "height": 35
        }
      },
      "source": [
        "# extracting prior information (features) by user\n",
        "users = orders[orders['eval_set'] == 0].groupby(['user_id'])['order_number'].max().to_frame('user_orders')\n",
        "users['user_period'] = orders[orders['eval_set'] == 0].groupby(['user_id'])['days_since_prior_order'].sum()\n",
        "users['user_mean_days_since_prior'] = orders[orders['eval_set'] == 0].groupby(['user_id'])['days_since_prior_order'].mean()\n",
        "\n",
        "# merging features about users and orders into one dataset\n",
        "us = orders_products.groupby('user_id').size().to_frame('user_total_products')\n",
        "us['eq_1'] = orders_products[orders_products['reordered'] == 1].groupby('user_id')['product_id'].size()\n",
        "us['gt_1'] = orders_products[orders_products['order_number'] > 1].groupby('user_id')['product_id'].size()\n",
        "us['user_reorder_ratio'] = us['eq_1'] / us['gt_1']\n",
        "us.drop(['eq_1', 'gt_1'], axis = 1, inplace = True)\n",
        "us['user_distinct_products'] = orders_products.groupby(['user_id'])['product_id'].nunique()\n",
        "\n",
        "# the average basket size of the user\n",
        "users = users.reset_index().merge(us.reset_index())\n",
        "users['user_average_basket'] = users['user_total_products'] / users['user_orders']\n",
        "\n",
        "us = orders[orders['eval_set'] != 0]\n",
        "us = us[['user_id', 'order_id', 'eval_set', 'days_since_prior_order']]\n",
        "users = users.merge(us)\n",
        "\n",
        "del us\n",
        "gc.collect()"
      ],
      "execution_count": 14,
      "outputs": [
        {
          "output_type": "execute_result",
          "data": {
            "text/plain": [
              "175"
            ]
          },
          "metadata": {
            "tags": []
          },
          "execution_count": 14
        }
      ]
    },
    {
      "cell_type": "code",
      "metadata": {
        "id": "39prZbkWvYgv",
        "colab_type": "code",
        "outputId": "442a2003-83e2-4356-944e-c5cdfcc93c94",
        "colab": {
          "base_uri": "https://localhost:8080/",
          "height": 226
        }
      },
      "source": [
        "users.head()"
      ],
      "execution_count": 15,
      "outputs": [
        {
          "output_type": "execute_result",
          "data": {
            "text/html": [
              "<div>\n",
              "<style scoped>\n",
              "    .dataframe tbody tr th:only-of-type {\n",
              "        vertical-align: middle;\n",
              "    }\n",
              "\n",
              "    .dataframe tbody tr th {\n",
              "        vertical-align: top;\n",
              "    }\n",
              "\n",
              "    .dataframe thead th {\n",
              "        text-align: right;\n",
              "    }\n",
              "</style>\n",
              "<table border=\"1\" class=\"dataframe\">\n",
              "  <thead>\n",
              "    <tr style=\"text-align: right;\">\n",
              "      <th></th>\n",
              "      <th>user_id</th>\n",
              "      <th>user_orders</th>\n",
              "      <th>user_period</th>\n",
              "      <th>user_mean_days_since_prior</th>\n",
              "      <th>user_total_products</th>\n",
              "      <th>user_reorder_ratio</th>\n",
              "      <th>user_distinct_products</th>\n",
              "      <th>user_average_basket</th>\n",
              "      <th>order_id</th>\n",
              "      <th>eval_set</th>\n",
              "      <th>days_since_prior_order</th>\n",
              "    </tr>\n",
              "  </thead>\n",
              "  <tbody>\n",
              "    <tr>\n",
              "      <th>0</th>\n",
              "      <td>1</td>\n",
              "      <td>10</td>\n",
              "      <td>206.0</td>\n",
              "      <td>20.600000</td>\n",
              "      <td>59</td>\n",
              "      <td>0.759259</td>\n",
              "      <td>18</td>\n",
              "      <td>5.900000</td>\n",
              "      <td>1187899</td>\n",
              "      <td>1</td>\n",
              "      <td>14</td>\n",
              "    </tr>\n",
              "    <tr>\n",
              "      <th>1</th>\n",
              "      <td>2</td>\n",
              "      <td>14</td>\n",
              "      <td>228.0</td>\n",
              "      <td>16.285714</td>\n",
              "      <td>195</td>\n",
              "      <td>0.510989</td>\n",
              "      <td>102</td>\n",
              "      <td>13.928571</td>\n",
              "      <td>1492625</td>\n",
              "      <td>1</td>\n",
              "      <td>30</td>\n",
              "    </tr>\n",
              "    <tr>\n",
              "      <th>2</th>\n",
              "      <td>3</td>\n",
              "      <td>12</td>\n",
              "      <td>163.0</td>\n",
              "      <td>13.583333</td>\n",
              "      <td>88</td>\n",
              "      <td>0.705128</td>\n",
              "      <td>33</td>\n",
              "      <td>7.333333</td>\n",
              "      <td>2774568</td>\n",
              "      <td>2</td>\n",
              "      <td>11</td>\n",
              "    </tr>\n",
              "    <tr>\n",
              "      <th>3</th>\n",
              "      <td>4</td>\n",
              "      <td>5</td>\n",
              "      <td>85.0</td>\n",
              "      <td>17.000000</td>\n",
              "      <td>18</td>\n",
              "      <td>0.071429</td>\n",
              "      <td>17</td>\n",
              "      <td>3.600000</td>\n",
              "      <td>329954</td>\n",
              "      <td>2</td>\n",
              "      <td>30</td>\n",
              "    </tr>\n",
              "    <tr>\n",
              "      <th>4</th>\n",
              "      <td>5</td>\n",
              "      <td>4</td>\n",
              "      <td>70.0</td>\n",
              "      <td>17.500000</td>\n",
              "      <td>37</td>\n",
              "      <td>0.538462</td>\n",
              "      <td>23</td>\n",
              "      <td>9.250000</td>\n",
              "      <td>2196797</td>\n",
              "      <td>1</td>\n",
              "      <td>6</td>\n",
              "    </tr>\n",
              "  </tbody>\n",
              "</table>\n",
              "</div>"
            ],
            "text/plain": [
              "   user_id  user_orders  ...  eval_set  days_since_prior_order\n",
              "0        1           10  ...         1                      14\n",
              "1        2           14  ...         1                      30\n",
              "2        3           12  ...         2                      11\n",
              "3        4            5  ...         2                      30\n",
              "4        5            4  ...         1                       6\n",
              "\n",
              "[5 rows x 11 columns]"
            ]
          },
          "metadata": {
            "tags": []
          },
          "execution_count": 15
        }
      ]
    },
    {
      "cell_type": "code",
      "metadata": {
        "id": "avuiR5vluUNI",
        "colab_type": "code",
        "outputId": "0e259674-dd25-4e7a-dbba-2ce331d72a44",
        "colab": {
          "base_uri": "https://localhost:8080/",
          "height": 35
        }
      },
      "source": [
        "# merging orders and products and grouping by user and product and calculating features for the user/product combination\n",
        "data = orders_products.groupby(['user_id', 'product_id']).size().to_frame('up_orders')\n",
        "data['up_first_order'] = orders_products.groupby(['user_id', 'product_id'])['order_number'].min()\n",
        "data['up_last_order'] = orders_products.groupby(['user_id', 'product_id'])['order_number'].max()\n",
        "data['up_average_cart_position'] = orders_products.groupby(['user_id', 'product_id'])['add_to_cart_order'].mean()\n",
        "data = data.reset_index()\n",
        "\n",
        "#merging previous data with users\n",
        "data = data.merge(prd, on = 'product_id')\n",
        "data = data.merge(users, on = 'user_id')\n",
        "\n",
        "#user/product combination features about the particular order\n",
        "data['up_order_rate'] = data['up_orders'] / data['user_orders']\n",
        "data['up_orders_since_last_order'] = data['user_orders'] - data['up_last_order']\n",
        "data = data.merge(train_orders[['user_id', 'product_id', 'reordered']], \n",
        "                  how = 'left', on = ['user_id', 'product_id'])\n",
        "data = data.merge(products, on = 'product_id')\n",
        "\n",
        "del orders_products     #orders, train_orders\n",
        "gc.collect()"
      ],
      "execution_count": 16,
      "outputs": [
        {
          "output_type": "execute_result",
          "data": {
            "text/plain": [
              "91"
            ]
          },
          "metadata": {
            "tags": []
          },
          "execution_count": 16
        }
      ]
    },
    {
      "cell_type": "code",
      "metadata": {
        "id": "7NWx7A0ZviAa",
        "colab_type": "code",
        "outputId": "8a86f1bc-e9b5-42c1-86a4-8f9b99045d41",
        "colab": {
          "base_uri": "https://localhost:8080/",
          "height": 226
        }
      },
      "source": [
        "data.head()"
      ],
      "execution_count": 17,
      "outputs": [
        {
          "output_type": "execute_result",
          "data": {
            "text/html": [
              "<div>\n",
              "<style scoped>\n",
              "    .dataframe tbody tr th:only-of-type {\n",
              "        vertical-align: middle;\n",
              "    }\n",
              "\n",
              "    .dataframe tbody tr th {\n",
              "        vertical-align: top;\n",
              "    }\n",
              "\n",
              "    .dataframe thead th {\n",
              "        text-align: right;\n",
              "    }\n",
              "</style>\n",
              "<table border=\"1\" class=\"dataframe\">\n",
              "  <thead>\n",
              "    <tr style=\"text-align: right;\">\n",
              "      <th></th>\n",
              "      <th>user_id</th>\n",
              "      <th>product_id</th>\n",
              "      <th>up_orders</th>\n",
              "      <th>up_first_order</th>\n",
              "      <th>up_last_order</th>\n",
              "      <th>up_average_cart_position</th>\n",
              "      <th>prod_orders</th>\n",
              "      <th>prod_reorder_probability</th>\n",
              "      <th>prod_reorder_ratio</th>\n",
              "      <th>user_orders</th>\n",
              "      <th>user_period</th>\n",
              "      <th>user_mean_days_since_prior</th>\n",
              "      <th>user_total_products</th>\n",
              "      <th>user_reorder_ratio</th>\n",
              "      <th>user_distinct_products</th>\n",
              "      <th>user_average_basket</th>\n",
              "      <th>order_id</th>\n",
              "      <th>eval_set</th>\n",
              "      <th>days_since_prior_order</th>\n",
              "      <th>up_order_rate</th>\n",
              "      <th>up_orders_since_last_order</th>\n",
              "      <th>reordered</th>\n",
              "      <th>aisle_id</th>\n",
              "      <th>department_id</th>\n",
              "    </tr>\n",
              "  </thead>\n",
              "  <tbody>\n",
              "    <tr>\n",
              "      <th>0</th>\n",
              "      <td>1</td>\n",
              "      <td>196</td>\n",
              "      <td>10</td>\n",
              "      <td>1</td>\n",
              "      <td>10</td>\n",
              "      <td>1.400000</td>\n",
              "      <td>35791</td>\n",
              "      <td>0.5825</td>\n",
              "      <td>0.77648</td>\n",
              "      <td>10</td>\n",
              "      <td>206.0</td>\n",
              "      <td>20.600000</td>\n",
              "      <td>59</td>\n",
              "      <td>0.759259</td>\n",
              "      <td>18</td>\n",
              "      <td>5.900000</td>\n",
              "      <td>1187899</td>\n",
              "      <td>1</td>\n",
              "      <td>14</td>\n",
              "      <td>1.000000</td>\n",
              "      <td>0</td>\n",
              "      <td>1.0</td>\n",
              "      <td>77</td>\n",
              "      <td>7</td>\n",
              "    </tr>\n",
              "    <tr>\n",
              "      <th>1</th>\n",
              "      <td>15</td>\n",
              "      <td>196</td>\n",
              "      <td>5</td>\n",
              "      <td>15</td>\n",
              "      <td>22</td>\n",
              "      <td>2.200000</td>\n",
              "      <td>35791</td>\n",
              "      <td>0.5825</td>\n",
              "      <td>0.77648</td>\n",
              "      <td>22</td>\n",
              "      <td>257.0</td>\n",
              "      <td>11.681818</td>\n",
              "      <td>72</td>\n",
              "      <td>0.867647</td>\n",
              "      <td>13</td>\n",
              "      <td>3.272727</td>\n",
              "      <td>2161313</td>\n",
              "      <td>2</td>\n",
              "      <td>7</td>\n",
              "      <td>0.227273</td>\n",
              "      <td>0</td>\n",
              "      <td>NaN</td>\n",
              "      <td>77</td>\n",
              "      <td>7</td>\n",
              "    </tr>\n",
              "    <tr>\n",
              "      <th>2</th>\n",
              "      <td>19</td>\n",
              "      <td>196</td>\n",
              "      <td>3</td>\n",
              "      <td>2</td>\n",
              "      <td>7</td>\n",
              "      <td>6.333333</td>\n",
              "      <td>35791</td>\n",
              "      <td>0.5825</td>\n",
              "      <td>0.77648</td>\n",
              "      <td>9</td>\n",
              "      <td>106.0</td>\n",
              "      <td>11.777778</td>\n",
              "      <td>204</td>\n",
              "      <td>0.412791</td>\n",
              "      <td>133</td>\n",
              "      <td>22.666667</td>\n",
              "      <td>1735923</td>\n",
              "      <td>2</td>\n",
              "      <td>8</td>\n",
              "      <td>0.333333</td>\n",
              "      <td>2</td>\n",
              "      <td>NaN</td>\n",
              "      <td>77</td>\n",
              "      <td>7</td>\n",
              "    </tr>\n",
              "    <tr>\n",
              "      <th>3</th>\n",
              "      <td>21</td>\n",
              "      <td>196</td>\n",
              "      <td>1</td>\n",
              "      <td>10</td>\n",
              "      <td>10</td>\n",
              "      <td>2.000000</td>\n",
              "      <td>35791</td>\n",
              "      <td>0.5825</td>\n",
              "      <td>0.77648</td>\n",
              "      <td>33</td>\n",
              "      <td>347.0</td>\n",
              "      <td>10.515152</td>\n",
              "      <td>205</td>\n",
              "      <td>0.515000</td>\n",
              "      <td>102</td>\n",
              "      <td>6.212121</td>\n",
              "      <td>1854765</td>\n",
              "      <td>1</td>\n",
              "      <td>28</td>\n",
              "      <td>0.030303</td>\n",
              "      <td>23</td>\n",
              "      <td>NaN</td>\n",
              "      <td>77</td>\n",
              "      <td>7</td>\n",
              "    </tr>\n",
              "    <tr>\n",
              "      <th>4</th>\n",
              "      <td>31</td>\n",
              "      <td>196</td>\n",
              "      <td>2</td>\n",
              "      <td>10</td>\n",
              "      <td>17</td>\n",
              "      <td>15.500000</td>\n",
              "      <td>35791</td>\n",
              "      <td>0.5825</td>\n",
              "      <td>0.77648</td>\n",
              "      <td>20</td>\n",
              "      <td>123.0</td>\n",
              "      <td>6.150000</td>\n",
              "      <td>299</td>\n",
              "      <td>0.381119</td>\n",
              "      <td>190</td>\n",
              "      <td>14.950000</td>\n",
              "      <td>280888</td>\n",
              "      <td>2</td>\n",
              "      <td>18</td>\n",
              "      <td>0.100000</td>\n",
              "      <td>3</td>\n",
              "      <td>NaN</td>\n",
              "      <td>77</td>\n",
              "      <td>7</td>\n",
              "    </tr>\n",
              "  </tbody>\n",
              "</table>\n",
              "</div>"
            ],
            "text/plain": [
              "   user_id  product_id  up_orders  ...  reordered  aisle_id  department_id\n",
              "0        1         196         10  ...        1.0        77              7\n",
              "1       15         196          5  ...        NaN        77              7\n",
              "2       19         196          3  ...        NaN        77              7\n",
              "3       21         196          1  ...        NaN        77              7\n",
              "4       31         196          2  ...        NaN        77              7\n",
              "\n",
              "[5 rows x 24 columns]"
            ]
          },
          "metadata": {
            "tags": []
          },
          "execution_count": 17
        }
      ]
    },
    {
      "cell_type": "code",
      "metadata": {
        "id": "mJMc3CY3wKdq",
        "colab_type": "code",
        "outputId": "37360f7f-51ff-4288-c3b8-250881884022",
        "colab": {
          "base_uri": "https://localhost:8080/",
          "height": 35
        }
      },
      "source": [
        "#save the actual reordered products of the train set in a list format and then delete the original frames\n",
        "train_orders = train_orders[train_orders['reordered']==1].drop('reordered',axis=1)\n",
        "orders.set_index('order_id', drop=False, inplace=True)\n",
        "train1=orders[['order_id','eval_set']].loc[orders['eval_set']==1]\n",
        "train1['actual'] = train_orders.groupby('order_id').aggregate({'product_id':lambda x: list(x)})\n",
        "train1['actual']=train1['actual'].fillna('')\n",
        "n_actual = train1['actual'].apply(lambda x: len(x)).mean()   # this is the average cart size\n",
        "\n",
        "test1=orders[['order_id','eval_set']].loc[orders['eval_set']==2]\n",
        "test1['actual']=' '\n",
        "traintest1=pd.concat([train1,test1])\n",
        "traintest1.set_index('order_id', drop=False, inplace=True)\n",
        "\n",
        "del orders, train_orders, train1, test1\n",
        "gc.collect()"
      ],
      "execution_count": 18,
      "outputs": [
        {
          "output_type": "execute_result",
          "data": {
            "text/plain": [
              "14"
            ]
          },
          "metadata": {
            "tags": []
          },
          "execution_count": 18
        }
      ]
    },
    {
      "cell_type": "code",
      "metadata": {
        "id": "QmNNJs9pwcdI",
        "colab_type": "code",
        "outputId": "3a97129e-e2d9-4796-976d-91f29014ac31",
        "colab": {
          "base_uri": "https://localhost:8080/",
          "height": 238
        }
      },
      "source": [
        "traintest1.head()"
      ],
      "execution_count": 19,
      "outputs": [
        {
          "output_type": "execute_result",
          "data": {
            "text/html": [
              "<div>\n",
              "<style scoped>\n",
              "    .dataframe tbody tr th:only-of-type {\n",
              "        vertical-align: middle;\n",
              "    }\n",
              "\n",
              "    .dataframe tbody tr th {\n",
              "        vertical-align: top;\n",
              "    }\n",
              "\n",
              "    .dataframe thead th {\n",
              "        text-align: right;\n",
              "    }\n",
              "</style>\n",
              "<table border=\"1\" class=\"dataframe\">\n",
              "  <thead>\n",
              "    <tr style=\"text-align: right;\">\n",
              "      <th></th>\n",
              "      <th>order_id</th>\n",
              "      <th>eval_set</th>\n",
              "      <th>actual</th>\n",
              "    </tr>\n",
              "    <tr>\n",
              "      <th>order_id</th>\n",
              "      <th></th>\n",
              "      <th></th>\n",
              "      <th></th>\n",
              "    </tr>\n",
              "  </thead>\n",
              "  <tbody>\n",
              "    <tr>\n",
              "      <th>1187899</th>\n",
              "      <td>1187899</td>\n",
              "      <td>1</td>\n",
              "      <td>[196, 25133, 38928, 26405, 39657, 10258, 13032...</td>\n",
              "    </tr>\n",
              "    <tr>\n",
              "      <th>1492625</th>\n",
              "      <td>1492625</td>\n",
              "      <td>1</td>\n",
              "      <td>[22963, 7963, 16589, 32792, 41787, 22825, 2485...</td>\n",
              "    </tr>\n",
              "    <tr>\n",
              "      <th>2196797</th>\n",
              "      <td>2196797</td>\n",
              "      <td>1</td>\n",
              "      <td>[15349, 21413, 40706, 21616]</td>\n",
              "    </tr>\n",
              "    <tr>\n",
              "      <th>525192</th>\n",
              "      <td>525192</td>\n",
              "      <td>1</td>\n",
              "      <td>[47272, 37999, 13198, 43967, 40852, 17638, 298...</td>\n",
              "    </tr>\n",
              "    <tr>\n",
              "      <th>880375</th>\n",
              "      <td>880375</td>\n",
              "      <td>1</td>\n",
              "      <td>[15937, 23165, 21903, 41540]</td>\n",
              "    </tr>\n",
              "  </tbody>\n",
              "</table>\n",
              "</div>"
            ],
            "text/plain": [
              "          order_id  eval_set                                             actual\n",
              "order_id                                                                       \n",
              "1187899    1187899         1  [196, 25133, 38928, 26405, 39657, 10258, 13032...\n",
              "1492625    1492625         1  [22963, 7963, 16589, 32792, 41787, 22825, 2485...\n",
              "2196797    2196797         1                       [15349, 21413, 40706, 21616]\n",
              "525192      525192         1  [47272, 37999, 13198, 43967, 40852, 17638, 298...\n",
              "880375      880375         1                       [15937, 23165, 21903, 41540]"
            ]
          },
          "metadata": {
            "tags": []
          },
          "execution_count": 19
        }
      ]
    },
    {
      "cell_type": "code",
      "metadata": {
        "id": "9wtA05lLwkGI",
        "colab_type": "code",
        "outputId": "de79c74f-933a-4624-fb5a-2116e29c3d77",
        "colab": {
          "base_uri": "https://localhost:8080/",
          "height": 35
        }
      },
      "source": [
        "#reduce the size by setting data types\n",
        "data = data.astype(dtype= {'user_id' : np.uint32, 'product_id'  : np.uint16,\n",
        "            'up_orders'  : np.uint8, 'up_first_order' : np.uint8, 'up_last_order' : np.uint8,\n",
        "            'up_average_cart_position' : np.uint8, 'prod_orders' : np.uint16, \n",
        "            'prod_reorder_probability' : np.float16,   \n",
        "            'prod_reorder_ratio' : np.float16, 'user_orders' : np.uint8,\n",
        "            'user_period' : np.uint8, 'user_mean_days_since_prior' : np.uint8,\n",
        "            'user_total_products' : np.uint8, 'user_reorder_ratio' : np.float16, \n",
        "            'user_distinct_products' : np.uint8, 'user_average_basket' : np.uint8,\n",
        "            'order_id'  : np.uint32, 'eval_set' : np.uint8, \n",
        "            'days_since_prior_order' : np.uint8, 'up_order_rate' : np.float16, \n",
        "            'up_orders_since_last_order':np.uint8,\n",
        "            'aisle_id': np.uint8, 'department_id': np.uint8})\n",
        "\n",
        "data['reordered'].fillna(0, inplace=True)  # replace NaN with zeros (not reordered) \n",
        "data['reordered']=data['reordered'].astype(np.uint8)\n",
        "\n",
        "gc.collect()"
      ],
      "execution_count": 20,
      "outputs": [
        {
          "output_type": "execute_result",
          "data": {
            "text/plain": [
              "0"
            ]
          },
          "metadata": {
            "tags": []
          },
          "execution_count": 20
        }
      ]
    },
    {
      "cell_type": "code",
      "metadata": {
        "id": "VRuViVUsw4JP",
        "colab_type": "code",
        "outputId": "1fc13255-03a6-4e23-b27f-12627f3e42ca",
        "colab": {
          "base_uri": "https://localhost:8080/",
          "height": 35
        }
      },
      "source": [
        "# filter by eval_set (train=1, test=2) and dropp the id's columns (not part of training features) \n",
        "# but keep prod_id and user_id in test\n",
        "\n",
        "train = data[data['eval_set'] == 1].drop(['eval_set', 'user_id', 'product_id', 'order_id'], axis = 1)\n",
        "test =  data[data['eval_set'] == 2].drop(['eval_set', 'user_id', 'reordered'], axis = 1)\n",
        "\n",
        "check =  data.drop(['eval_set', 'user_id', 'reordered'], axis = 1)\n",
        "\n",
        "del data\n",
        "gc.collect()"
      ],
      "execution_count": 21,
      "outputs": [
        {
          "output_type": "execute_result",
          "data": {
            "text/plain": [
              "0"
            ]
          },
          "metadata": {
            "tags": []
          },
          "execution_count": 21
        }
      ]
    },
    {
      "cell_type": "code",
      "metadata": {
        "id": "DDyGuxuwxGj-",
        "colab_type": "code",
        "outputId": "3a63c89f-2387-4f8c-9cef-d25890bd6fff",
        "colab": {
          "base_uri": "https://localhost:8080/",
          "height": 164
        }
      },
      "source": [
        "train.columns"
      ],
      "execution_count": 22,
      "outputs": [
        {
          "output_type": "execute_result",
          "data": {
            "text/plain": [
              "Index(['up_orders', 'up_first_order', 'up_last_order',\n",
              "       'up_average_cart_position', 'prod_orders', 'prod_reorder_probability',\n",
              "       'prod_reorder_ratio', 'user_orders', 'user_period',\n",
              "       'user_mean_days_since_prior', 'user_total_products',\n",
              "       'user_reorder_ratio', 'user_distinct_products', 'user_average_basket',\n",
              "       'days_since_prior_order', 'up_order_rate', 'up_orders_since_last_order',\n",
              "       'reordered', 'aisle_id', 'department_id'],\n",
              "      dtype='object')"
            ]
          },
          "metadata": {
            "tags": []
          },
          "execution_count": 22
        }
      ]
    },
    {
      "cell_type": "code",
      "metadata": {
        "id": "GV9_6DTEPO0S",
        "colab_type": "code",
        "colab": {}
      },
      "source": [
        "fc = tf.feature_column\n",
        "\n",
        "features = ['up_orders', 'up_first_order', 'up_last_order',\n",
        "        'up_average_cart_position', 'prod_orders', 'prod_reorder_probability',\n",
        "        'prod_reorder_ratio', 'user_orders', 'user_period',\n",
        "        'user_mean_days_since_prior', 'user_total_products',\n",
        "        'user_reorder_ratio', 'user_distinct_products', 'user_average_basket',\n",
        "        'days_since_prior_order', 'up_order_rate', 'up_orders_since_last_order',\n",
        "         'aisle_id', 'department_id']\n",
        "\n",
        "feature_columns = []\n",
        "\n",
        "\n",
        "for feature_name in features:\n",
        "  feature_columns.append(fc.numeric_column(feature_name,dtype = tf.float16))\n"
      ],
      "execution_count": 0,
      "outputs": []
    },
    {
      "cell_type": "code",
      "metadata": {
        "id": "Wc00eQ03lGbo",
        "colab_type": "code",
        "colab": {}
      },
      "source": [
        "#??tf.feature_column"
      ],
      "execution_count": 0,
      "outputs": []
    },
    {
      "cell_type": "code",
      "metadata": {
        "id": "r1TYD_sfxJfX",
        "colab_type": "code",
        "outputId": "8b6669ac-55d0-4f5c-c680-f327aa592cf3",
        "colab": {
          "base_uri": "https://localhost:8080/",
          "height": 164
        }
      },
      "source": [
        "test.columns"
      ],
      "execution_count": 25,
      "outputs": [
        {
          "output_type": "execute_result",
          "data": {
            "text/plain": [
              "Index(['product_id', 'up_orders', 'up_first_order', 'up_last_order',\n",
              "       'up_average_cart_position', 'prod_orders', 'prod_reorder_probability',\n",
              "       'prod_reorder_ratio', 'user_orders', 'user_period',\n",
              "       'user_mean_days_since_prior', 'user_total_products',\n",
              "       'user_reorder_ratio', 'user_distinct_products', 'user_average_basket',\n",
              "       'order_id', 'days_since_prior_order', 'up_order_rate',\n",
              "       'up_orders_since_last_order', 'aisle_id', 'department_id'],\n",
              "      dtype='object')"
            ]
          },
          "metadata": {
            "tags": []
          },
          "execution_count": 25
        }
      ]
    },
    {
      "cell_type": "code",
      "metadata": {
        "id": "8IUEwtoU3qlX",
        "colab_type": "code",
        "colab": {}
      },
      "source": [
        "#train = train[0:1000000]"
      ],
      "execution_count": 0,
      "outputs": []
    },
    {
      "cell_type": "code",
      "metadata": {
        "id": "x3TKuT8Xze5S",
        "colab_type": "code",
        "colab": {}
      },
      "source": [
        "from sklearn.model_selection import train_test_split"
      ],
      "execution_count": 0,
      "outputs": []
    },
    {
      "cell_type": "code",
      "metadata": {
        "id": "ZtPRIYnFxTH6",
        "colab_type": "code",
        "outputId": "5e783fc1-2083-4c61-f76f-cdeaabefd0ba",
        "colab": {
          "base_uri": "https://localhost:8080/",
          "height": 35
        }
      },
      "source": [
        "X_train, X_eval, y_train, y_eval = train_test_split(\n",
        "    train[train.columns.difference(['reordered'])], train['reordered'], test_size=0.4, random_state=2)\n",
        "\n",
        "del train\n",
        "gc.collect()"
      ],
      "execution_count": 28,
      "outputs": [
        {
          "output_type": "execute_result",
          "data": {
            "text/plain": [
              "10"
            ]
          },
          "metadata": {
            "tags": []
          },
          "execution_count": 28
        }
      ]
    },
    {
      "cell_type": "code",
      "metadata": {
        "id": "Y7wLjUxrUfli",
        "colab_type": "code",
        "outputId": "8fca79b9-cd23-4f6c-fa80-a1b35334ab39",
        "colab": {
          "base_uri": "https://localhost:8080/",
          "height": 35
        }
      },
      "source": [
        "X_train.shape,X_eval.shape,y_train.shape,y_eval.shape"
      ],
      "execution_count": 29,
      "outputs": [
        {
          "output_type": "execute_result",
          "data": {
            "text/plain": [
              "((5073441, 19), (3382294, 19), (5073441,), (3382294,))"
            ]
          },
          "metadata": {
            "tags": []
          },
          "execution_count": 29
        }
      ]
    },
    {
      "cell_type": "code",
      "metadata": {
        "id": "URZypjixhiSx",
        "colab_type": "code",
        "colab": {}
      },
      "source": [
        "NUM_EXAMPLES = len(y_train[:10000])\n",
        "\n",
        "def make_input_fn(X, y, n_epochs=None, shuffle=True):\n",
        "  def input_fn():\n",
        "    dataset = tf.data.Dataset.from_tensor_slices((X.to_dict(orient='list'), y))\n",
        "    if shuffle:\n",
        "      dataset = dataset.shuffle(NUM_EXAMPLES)\n",
        "    # For training, cycle thru dataset as many times as need (n_epochs=None).    \n",
        "    dataset = (dataset\n",
        "      .repeat(n_epochs)\n",
        "      .batch(NUM_EXAMPLES)) \n",
        "    return dataset\n",
        "  return input_fn\n",
        "\n",
        "# Training and evaluation input functions.\n",
        "train_input_fn = make_input_fn(X_train, y_train)\n",
        "eval_input_fn = make_input_fn(X_eval, y_eval, shuffle=False, n_epochs=1)\n"
      ],
      "execution_count": 0,
      "outputs": []
    },
    {
      "cell_type": "code",
      "metadata": {
        "id": "ScKfCKjqCbwB",
        "colab_type": "code",
        "outputId": "fc1ffcba-5dc5-498d-c329-ce9b1c3b58e8",
        "colab": {
          "base_uri": "https://localhost:8080/",
          "height": 394
        }
      },
      "source": [
        "params = {\n",
        "  'n_trees': 20,\n",
        "  'max_depth': 3,\n",
        "  'n_batches_per_layer': 1,\n",
        "  # You must enable center_bias = True to get DFCs. This will force the model to \n",
        "  # make an initial prediction before using any features (e.g. use the mean of \n",
        "  # the training labels for regression or log odds for classification when\n",
        "  # using cross entropy loss).\n",
        "  'center_bias': True\n",
        "}\n",
        "\n",
        "est = tf.estimator.BoostedTreesClassifier(feature_columns, **params)\n",
        "est.train(train_input_fn, max_steps=100)\n",
        "results = est.evaluate(eval_input_fn)\n",
        "pd.Series(results).to_frame()\n"
      ],
      "execution_count": 31,
      "outputs": [
        {
          "output_type": "execute_result",
          "data": {
            "text/html": [
              "<div>\n",
              "<style scoped>\n",
              "    .dataframe tbody tr th:only-of-type {\n",
              "        vertical-align: middle;\n",
              "    }\n",
              "\n",
              "    .dataframe tbody tr th {\n",
              "        vertical-align: top;\n",
              "    }\n",
              "\n",
              "    .dataframe thead th {\n",
              "        text-align: right;\n",
              "    }\n",
              "</style>\n",
              "<table border=\"1\" class=\"dataframe\">\n",
              "  <thead>\n",
              "    <tr style=\"text-align: right;\">\n",
              "      <th></th>\n",
              "      <th>0</th>\n",
              "    </tr>\n",
              "  </thead>\n",
              "  <tbody>\n",
              "    <tr>\n",
              "      <th>accuracy</th>\n",
              "      <td>0.907559</td>\n",
              "    </tr>\n",
              "    <tr>\n",
              "      <th>accuracy_baseline</th>\n",
              "      <td>0.902193</td>\n",
              "    </tr>\n",
              "    <tr>\n",
              "      <th>auc</th>\n",
              "      <td>0.823229</td>\n",
              "    </tr>\n",
              "    <tr>\n",
              "      <th>auc_precision_recall</th>\n",
              "      <td>0.391689</td>\n",
              "    </tr>\n",
              "    <tr>\n",
              "      <th>average_loss</th>\n",
              "      <td>0.251744</td>\n",
              "    </tr>\n",
              "    <tr>\n",
              "      <th>label/mean</th>\n",
              "      <td>0.097807</td>\n",
              "    </tr>\n",
              "    <tr>\n",
              "      <th>loss</th>\n",
              "      <td>0.251706</td>\n",
              "    </tr>\n",
              "    <tr>\n",
              "      <th>precision</th>\n",
              "      <td>0.604855</td>\n",
              "    </tr>\n",
              "    <tr>\n",
              "      <th>prediction/mean</th>\n",
              "      <td>0.098856</td>\n",
              "    </tr>\n",
              "    <tr>\n",
              "      <th>recall</th>\n",
              "      <td>0.158235</td>\n",
              "    </tr>\n",
              "    <tr>\n",
              "      <th>global_step</th>\n",
              "      <td>68.000000</td>\n",
              "    </tr>\n",
              "  </tbody>\n",
              "</table>\n",
              "</div>"
            ],
            "text/plain": [
              "                              0\n",
              "accuracy               0.907559\n",
              "accuracy_baseline      0.902193\n",
              "auc                    0.823229\n",
              "auc_precision_recall   0.391689\n",
              "average_loss           0.251744\n",
              "label/mean             0.097807\n",
              "loss                   0.251706\n",
              "precision              0.604855\n",
              "prediction/mean        0.098856\n",
              "recall                 0.158235\n",
              "global_step           68.000000"
            ]
          },
          "metadata": {
            "tags": []
          },
          "execution_count": 31
        }
      ]
    },
    {
      "cell_type": "code",
      "metadata": {
        "id": "4KJfi8ohHtbp",
        "colab_type": "code",
        "colab": {
          "base_uri": "https://localhost:8080/",
          "height": 35
        },
        "outputId": "b004c818-dbeb-4bb2-b8d6-7c2f3fea9fee"
      },
      "source": [
        "def make_inmemory_train_input_fn(X, y):\n",
        "  def input_fn():\n",
        "    return dict(X), y\n",
        "  return input_fn\n",
        "\n",
        "\n",
        "train_input_fn = make_inmemory_train_input_fn(X_train, y_train)\n",
        "eval_input_fn = make_input_fn(X_eval, y_eval, shuffle=False, n_epochs=5)\n",
        "est = tf.contrib.estimator.boosted_trees_classifier_train_in_memory(\n",
        "    train_input_fn,\n",
        "    feature_columns)\n",
        "print(est.evaluate(eval_input_fn)['accuracy'])\n"
      ],
      "execution_count": 32,
      "outputs": [
        {
          "output_type": "stream",
          "text": [
            "0.90952086\n"
          ],
          "name": "stdout"
        }
      ]
    },
    {
      "cell_type": "code",
      "metadata": {
        "id": "mEbO008GSutf",
        "colab_type": "code",
        "colab": {
          "base_uri": "https://localhost:8080/",
          "height": 281
        },
        "outputId": "e230ff17-e26f-4367-866b-1dc369cd64eb"
      },
      "source": [
        "pred_dicts = list(est.predict(eval_input_fn))\n",
        "probs = pd.Series([pred['probabilities'][1] for pred in pred_dicts])\n",
        "\n",
        "probs.plot(kind='hist', bins=20, title='predicted probabilities');\n"
      ],
      "execution_count": 33,
      "outputs": [
        {
          "output_type": "display_data",
          "data": {
            "image/png": "[encoded data removed]",
            "text/plain": [
              "<Figure size 432x288 with 1 Axes>"
            ]
          },
          "metadata": {
            "tags": []
          }
        }
      ]
    },
    {
      "cell_type": "code",
      "metadata": {
        "id": "T-QQikRtrfVj",
        "colab_type": "code",
        "colab": {}
      },
      "source": [
        ""
      ],
      "execution_count": 0,
      "outputs": []
    }
  ]
}